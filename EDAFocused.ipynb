{
 "cells": [
  {
   "cell_type": "code",
   "execution_count": null,
   "id": "a8ae9a7b-25f0-441e-8e64-8e8844e93841",
   "metadata": {},
   "outputs": [],
   "source": [
    "import pandas as pd\n",
    "import matplotlib.pyplot as plt\n",
    "import seaborn as sns\n",
    "\n",
    "# Load the dataset\n",
    "train_df = pd.read_csv(\"Data/train.csv\")\n",
    "test_df = pd.read_csv(\"Data/test.csv\")\n",
    "\n",
    "# 1. Imports and environment setup (already done above)\n",
    "\n",
    "# 2. Load Data sets\n",
    "display(train_df.head())\n",
    "display(test_df.head())\n",
    "\n",
    "# 3. Column Description\n",
    "display(train_df.info())\n",
    "display(test_df.info())\n",
    "display(train_df.describe())\n",
    "display(test_df.describe())\n",
    "\n",
    "# 4. EDA for Train data set\n",
    "## 4.1 Overview of the Train data set\n",
    "display(train_df.shape)\n",
    "\n",
    "## 4.2 Dimensions of the Train data set\n",
    "display(f\"Rows: {train_df.shape[0]}, Columns: {train_df.shape[1]}\")\n",
    "\n",
    "## 4.3 Identify missing values in each column\n",
    "display(train_df.isnull().sum())\n",
    "\n",
    "## 4.4 Identify duplicated rows\n",
    "display(train_df.duplicated().sum())\n",
    "\n",
    "## 4.5 Display summary information\n",
    "display(train_df.info())\n",
    "\n",
    "## 4.6 Generate descriptive statistics\n",
    "display(train_df.describe())\n",
    "\n",
    "## 4.7 Check the range of values in every binary column\n",
    "binary_cols = [col for col in train_df.columns if train_df[col].nunique() == 2]\n",
    "for col in binary_cols:\n",
    "    display(train_df[col].value_counts())\n",
    "\n",
    "## 4.8 Display the first 5 rows\n",
    "display(train_df.head())\n",
    "\n",
    "## 4.9 Display the last 5 rows\n",
    "display(train_df.tail())\n"
   ]
  },
  {
   "cell_type": "code",
   "execution_count": null,
   "id": "964ff00b-6074-40ab-bf4e-ec58213a3b53",
   "metadata": {},
   "outputs": [],
   "source": [
    "# 5. EDA for Test data set\n",
    "## 5.1 Overview of the Test data set\n",
    "test_df"
   ]
  },
  {
   "cell_type": "code",
   "execution_count": null,
   "id": "6445d134-ce1a-4eaf-9cd9-ddae4c2bcece",
   "metadata": {},
   "outputs": [],
   "source": [
    "## 5.2. Dimensions of the Test data set (the number of rows and columns)¶\n",
    "test_df.shape"
   ]
  },
  {
   "cell_type": "code",
   "execution_count": null,
   "id": "b69d890e-812e-4cfa-b8b1-a38bd90f88de",
   "metadata": {},
   "outputs": [],
   "source": [
    "## 5.3. Identify missing values in each column\n",
    "test_df.isnull().sum().head(10)"
   ]
  },
  {
   "cell_type": "code",
   "execution_count": null,
   "id": "6bfecff6-4e2a-4570-b144-4cdcd6e9124e",
   "metadata": {},
   "outputs": [],
   "source": [
    "## 5.4. Identify duplicated rows\n",
    "display(test_df.duplicated().sum())"
   ]
  },
  {
   "cell_type": "code",
   "execution_count": null,
   "id": "a84c4ab5-0dd6-4c71-aa27-9d17f338ac12",
   "metadata": {},
   "outputs": [],
   "source": [
    "## 5.5. Display the summary information of the Test data set\n",
    "test_df.info()"
   ]
  },
  {
   "cell_type": "code",
   "execution_count": null,
   "id": "81f3e060-a6b8-40b9-ada5-4e6a17002e5e",
   "metadata": {},
   "outputs": [],
   "source": [
    "## 5.6. Generate descriptive statistics of the Test data set\n",
    "test_df.describe()"
   ]
  },
  {
   "cell_type": "code",
   "execution_count": null,
   "id": "abe6234f-fa48-40ee-9737-53fdb2cc1873",
   "metadata": {},
   "outputs": [],
   "source": [
    "binary_cols = [col for col in test_df.columns if test_df[col].nunique() == 2]\n",
    "for col in binary_cols:\n",
    "    display(test_df[col].value_counts())"
   ]
  },
  {
   "cell_type": "code",
   "execution_count": null,
   "id": "3cf75ebb-f5a2-4ca6-8e09-4d76ca57b63c",
   "metadata": {},
   "outputs": [],
   "source": [
    "for col in [\"Street\", \"Alley\", \"CentralAir\", \"PoolQC\"]:\n",
    "    print(f\"{col}: {train_df[col].unique()}\")"
   ]
  },
  {
   "cell_type": "code",
   "execution_count": null,
   "id": "3f666d8f-3fcb-4029-88d6-a0904a076d89",
   "metadata": {},
   "outputs": [],
   "source": [
    "test_df[\"CentralAir\"]"
   ]
  },
  {
   "cell_type": "code",
   "execution_count": null,
   "id": "a51e37a9-f6cf-40b6-b383-f9ba6087b8b5",
   "metadata": {},
   "outputs": [],
   "source": [
    "drop_columns = [\"Street\", \"Alley\",\"CentralAir\",\"PoolQC\"]\n",
    "test_df = test_df.drop(columns = drop_columns)"
   ]
  },
  {
   "cell_type": "code",
   "execution_count": null,
   "id": "f07e5ea5-f9e1-4a47-888d-0a96acad1260",
   "metadata": {},
   "outputs": [],
   "source": []
  }
 ],
 "metadata": {
  "kernelspec": {
   "display_name": "Python 3 (ipykernel)",
   "language": "python",
   "name": "python3"
  },
  "language_info": {
   "codemirror_mode": {
    "name": "ipython",
    "version": 3
   },
   "file_extension": ".py",
   "mimetype": "text/x-python",
   "name": "python",
   "nbconvert_exporter": "python",
   "pygments_lexer": "ipython3",
   "version": "3.12.9"
  }
 },
 "nbformat": 4,
 "nbformat_minor": 5
}
