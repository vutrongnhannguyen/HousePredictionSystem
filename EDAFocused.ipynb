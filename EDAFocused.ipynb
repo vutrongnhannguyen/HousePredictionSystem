{
 "cells": [
  {
   "cell_type": "code",
   "execution_count": null,
   "id": "a8ae9a7b-25f0-441e-8e64-8e8844e93841",
   "metadata": {},
   "outputs": [],
   "source": [
    "import pandas as pd\n",
    "import matplotlib.pyplot as plt\n",
    "import seaborn as sns\n",
    "\n",
    "# Load the dataset\n",
    "train_df = pd.read_csv(\"/data/train.csv\")\n",
    "test_df = pd.read_csv(\"/data/test.csv\")\n",
    "\n",
    "# 1. Imports and environment setup (already done above)\n",
    "\n",
    "# 2. Load Data sets\n",
    "display(train_df.head())\n",
    "display(test_df.head())\n",
    "\n",
    "# 3. Column Description\n",
    "display(train_df.info())\n",
    "display(test_df.info())\n",
    "display(train_df.describe())\n",
    "display(test_df.describe())\n",
    "\n",
    "# 4. EDA for Train data set\n",
    "## 4.1 Overview of the Train data set\n",
    "display(train_df.shape)\n",
    "\n",
    "## 4.2 Dimensions of the Train data set\n",
    "display(f\"Rows: {train_df.shape[0]}, Columns: {train_df.shape[1]}\")\n",
    "\n",
    "## 4.3 Identify missing values in each column\n",
    "display(train_df.isnull().sum())\n",
    "\n",
    "## 4.4 Identify duplicated rows\n",
    "display(train_df.duplicated().sum())\n",
    "\n",
    "## 4.5 Display summary information\n",
    "display(train_df.info())\n",
    "\n",
    "## 4.6 Generate descriptive statistics\n",
    "display(train_df.describe())\n",
    "\n",
    "## 4.7 Check the range of values in every binary column\n",
    "binary_cols = [col for col in train_df.columns if train_df[col].nunique() == 2]\n",
    "for col in binary_cols:\n",
    "    display(train_df[col].value_counts())\n",
    "\n",
    "## 4.8 Display the first 5 rows\n",
    "display(train_df.head())\n",
    "\n",
    "## 4.9 Display the last 5 rows\n",
    "display(train_df.tail())\n"
   ]
  }
 ],
 "metadata": {
  "kernelspec": {
   "display_name": "Python 3 (ipykernel)",
   "language": "python",
   "name": "python3"
  },
  "language_info": {
   "codemirror_mode": {
    "name": "ipython",
    "version": 3
   },
   "file_extension": ".py",
   "mimetype": "text/x-python",
   "name": "python",
   "nbconvert_exporter": "python",
   "pygments_lexer": "ipython3",
   "version": "3.12.9"
  }
 },
 "nbformat": 4,
 "nbformat_minor": 5
}
